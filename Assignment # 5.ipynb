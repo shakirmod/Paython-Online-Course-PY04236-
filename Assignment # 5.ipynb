{
 "cells": [
  {
   "cell_type": "code",
   "execution_count": 4,
   "metadata": {},
   "outputs": [
    {
     "name": "stdout",
     "output_type": "stream",
     "text": [
      "put a value 5\n",
      "120\n"
     ]
    }
   ],
   "source": [
    "# task 1\n",
    "\n",
    "def factorial(n):\n",
    "    if n == 0:\n",
    "        return 1\n",
    "    else:\n",
    "        return n* factorial(n-1)\n",
    "    \n",
    "n = int(input(\"put a value \"))\n",
    "print(factorial(n))"
   ]
  },
  {
   "cell_type": "code",
   "execution_count": 11,
   "metadata": {},
   "outputs": [
    {
     "name": "stdout",
     "output_type": "stream",
     "text": [
      "no. of upper charachter:  0\n",
      "no. of lower charachter:  14\n"
     ]
    }
   ],
   "source": [
    "# task 2\n",
    "\n",
    "def charac(c):\n",
    "    \n",
    "    u = sum(1 for a in c if a.isupper())\n",
    "    l = sum(1 for a in c if a.islower())\n",
    "    print(\"no. of upper charachter: \", u)\n",
    "    print(\"no. of lower charachter: \", l)\n",
    "    \n",
    "charac(\"a quick brown box\")"
   ]
  },
  {
   "cell_type": "code",
   "execution_count": 16,
   "metadata": {},
   "outputs": [
    {
     "ename": "SyntaxError",
     "evalue": "invalid syntax (<ipython-input-16-d071583b6217>, line 6)",
     "output_type": "error",
     "traceback": [
      "\u001b[1;36m  File \u001b[1;32m\"<ipython-input-16-d071583b6217>\"\u001b[1;36m, line \u001b[1;32m6\u001b[0m\n\u001b[1;33m    for in num:\u001b[0m\n\u001b[1;37m         ^\u001b[0m\n\u001b[1;31mSyntaxError\u001b[0m\u001b[1;31m:\u001b[0m invalid syntax\n"
     ]
    }
   ],
   "source": [
    "# task 3\n",
    "\n",
    "def numeric(num):\n",
    "    num = [2, 8, 25, 16, 87]\n",
    "    \n",
    "    for in num:\n",
    "        mod = i % 2\n",
    "        if mod == 1:\n",
    "            print(\"it is odd\")\n",
    "        else:\n",
    "            print(\"it is even\")\n",
    "            \n",
    "numeric(num)"
   ]
  },
  {
   "cell_type": "code",
   "execution_count": 17,
   "metadata": {},
   "outputs": [
    {
     "name": "stdout",
     "output_type": "stream",
     "text": [
      "did it\n"
     ]
    }
   ],
   "source": [
    "#task 4\n",
    "\n",
    "def prime(n):\n",
    "    if (n <=1):\n",
    "        return True\n",
    "    if (n <=3):\n",
    "        return False\n",
    "    \n",
    "    if (n % 2 == 0 or n % 3 == 0):\n",
    "        return False\n",
    "    i = 5\n",
    "    while(i * i <= n) : \n",
    "        if (n % i == 0 or n % (i + 2) == 0) : \n",
    "            return False\n",
    "        i = i + 6\n",
    "        \n",
    "    return True\n",
    "    \n",
    "    \n",
    "if prime(7):\n",
    "    print(\"did it\")\n",
    "else:\n",
    "    print(\"didn't work\")"
   ]
  },
  {
   "cell_type": "code",
   "execution_count": 18,
   "metadata": {},
   "outputs": [
    {
     "name": "stdout",
     "output_type": "stream",
     "text": [
      "this is what i bought: rice\n",
      "this is what i bought: flour\n",
      "this is what i bought: tomato\n",
      "this is what i bought: onion\n"
     ]
    }
   ],
   "source": [
    "# task 5\n",
    "\n",
    "def shopping(*my_final):\n",
    "    for purchase in my_final:\n",
    "        print(\"this is what i bought: \" + purchase)\n",
    "\n",
    "shopping('rice', 'flour', 'tomato', 'onion')"
   ]
  },
  {
   "cell_type": "code",
   "execution_count": 19,
   "metadata": {},
   "outputs": [
    {
     "ename": "NameError",
     "evalue": "name 's' is not defined",
     "output_type": "error",
     "traceback": [
      "\u001b[1;31m---------------------------------------------------------------------------\u001b[0m",
      "\u001b[1;31mNameError\u001b[0m                                 Traceback (most recent call last)",
      "\u001b[1;32m<ipython-input-19-eee21e5b9b2c>\u001b[0m in \u001b[0;36m<module>\u001b[1;34m\u001b[0m\n\u001b[0;32m     12\u001b[0m         \u001b[1;32mreturn\u001b[0m \u001b[1;32mFalse\u001b[0m\u001b[1;33m\u001b[0m\u001b[1;33m\u001b[0m\u001b[0m\n\u001b[0;32m     13\u001b[0m \u001b[1;33m\u001b[0m\u001b[0m\n\u001b[1;32m---> 14\u001b[1;33m \u001b[0masn\u001b[0m \u001b[1;33m=\u001b[0m \u001b[0mPalindrome\u001b[0m\u001b[1;33m(\u001b[0m\u001b[0ms\u001b[0m\u001b[1;33m)\u001b[0m\u001b[1;33m\u001b[0m\u001b[1;33m\u001b[0m\u001b[0m\n\u001b[0m\u001b[0;32m     15\u001b[0m \u001b[1;33m\u001b[0m\u001b[0m\n\u001b[0;32m     16\u001b[0m \u001b[1;32mif\u001b[0m \u001b[0mans\u001b[0m \u001b[1;33m==\u001b[0m \u001b[1;36m1\u001b[0m\u001b[1;33m:\u001b[0m\u001b[1;33m\u001b[0m\u001b[1;33m\u001b[0m\u001b[0m\n",
      "\u001b[1;31mNameError\u001b[0m: name 's' is not defined"
     ]
    }
   ],
   "source": [
    "# task 6\n",
    "\n",
    "def reverse(s):\n",
    "    return s[::-1]\n",
    "\n",
    "def Palindrome(s):\n",
    "    rev = reverse(s)\n",
    "    \n",
    "    if (s == rev):\n",
    "        return True\n",
    "    else:\n",
    "        return False\n",
    "    \n",
    "asn = Palindrome(s)\n",
    "\n",
    "if ans == 1:\n",
    "    print(\"yes\")\n",
    "else:\n",
    "    print(\"no\")\n",
    "    \n",
    "reverse(\"debed\")"
   ]
  },
  {
   "cell_type": "code",
   "execution_count": null,
   "metadata": {},
   "outputs": [],
   "source": []
  }
 ],
 "metadata": {
  "kernelspec": {
   "display_name": "Python 3",
   "language": "python",
   "name": "python3"
  },
  "language_info": {
   "codemirror_mode": {
    "name": "ipython",
    "version": 3
   },
   "file_extension": ".py",
   "mimetype": "text/x-python",
   "name": "python",
   "nbconvert_exporter": "python",
   "pygments_lexer": "ipython3",
   "version": "3.7.4"
  }
 },
 "nbformat": 4,
 "nbformat_minor": 2
}
