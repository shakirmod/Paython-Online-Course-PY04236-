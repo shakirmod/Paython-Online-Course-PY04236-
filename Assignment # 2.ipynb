{
 "cells": [
  {
   "cell_type": "code",
   "execution_count": 1,
   "metadata": {},
   "outputs": [
    {
     "name": "stdout",
     "output_type": "stream",
     "text": [
      "~ Marks Sheet of UPSS ~\n",
      "Please Insert Marks out of 100 \n",
      "Enter Quraan Subject Marks 70\n",
      "Enter Urdu Subject Marks 80\n",
      "Enter Math Subject Marks 65\n",
      "Enter Physics Subject Marks 40\n",
      "Enter Computer Subject Marks 56\n",
      "Your Total Marks is 311 your total marks is  You secured A Grade\n"
     ]
    }
   ],
   "source": [
    "print (\"~ Marks Sheet of UPSS ~\")\n",
    "print (\"Please Insert Marks out of 100 \")\n",
    "qur = int(input(\"Enter Quraan Subject Marks \"))\n",
    "urdu = int(input(\"Enter Urdu Subject Marks \"))\n",
    "math = int(input(\"Enter Math Subject Marks \"))\n",
    "phy = int(input(\"Enter Physics Subject Marks \"))\n",
    "com = int(input(\"Enter Computer Subject Marks \"))\n",
    "total = qur + urdu + math + phy + com\n",
    "per = float(total/500)*100\n",
    "if per > 100:\n",
    "    print (\"Error! you must have Entered wrong marks\")\n",
    "elif per >= 80:\n",
    "    print (\"Your Total Marks is \" + str(total) + \" your total marks is \" + \" You secured A* Grade\")\n",
    "elif per < 80 and per >= 70:\n",
    "    print (\"Your Total Marks is \" + str(total) + \" your total marks is \" + \" You secured A Grade\")\n",
    "elif per < 70 and per >= 60:\n",
    "    print (\"Your Total Marks is \" + str(total) + \" your total marks is \" + \" You secured A Grade\")\n",
    "elif per < 60 and per >= 50:\n",
    "    print (\"Your Total Marks is \" + str(total) + \" your total marks is \" + \" You secured B Grade\")\n",
    "elif per < 50 and per >= 50:\n",
    "    print (\"Your Total Marks is \" + str(total) + \" your total marks is \" + \" You secured C Grade\")\n",
    "elif per < 40 and per >= 30:\n",
    "    print (\"Your Total Marks is \" + str(total) + \" your total marks is \" + \" You secured D Grade\")\n",
    "elif per < 30:\n",
    "    print (\"Your Total Marks is \" + str(total) + \" your total marks is \" + \" You did not clear your exams\")\n",
    "    "
   ]
  },
  {
   "cell_type": "code",
   "execution_count": 4,
   "metadata": {},
   "outputs": [
    {
     "name": "stdout",
     "output_type": "stream",
     "text": [
      "Please Enter a Integer Number 4\n",
      "4 is a Even Number\n"
     ]
    }
   ],
   "source": [
    "# Indenti. the Odd and Even Number\n",
    "a1 = int(input(\"Please Enter a Integer Number \"))\n",
    "b1 = 2\n",
    "c1 = a1 % b1\n",
    "if c1 == 0:\n",
    "    print (str(a1) + \" is a Even Number\")\n",
    "else:\n",
    "    print (str(b1) + \" is a Odd Number\")"
   ]
  },
  {
   "cell_type": "code",
   "execution_count": 3,
   "metadata": {},
   "outputs": [
    {
     "name": "stdout",
     "output_type": "stream",
     "text": [
      "11\n"
     ]
    }
   ],
   "source": [
    "# print length of List\n",
    "a = [1,3,4,9,1,3,7,1,7,3,1]\n",
    "b = len(a)\n",
    "print (b)"
   ]
  },
  {
   "cell_type": "code",
   "execution_count": 5,
   "metadata": {},
   "outputs": [
    {
     "name": "stdout",
     "output_type": "stream",
     "text": [
      "List values [49, 24, 13, 104, 39, 6]\n",
      "235\n"
     ]
    }
   ],
   "source": [
    "# sum all numeric values in list\n",
    "templist = [49, 24, 13, 104, 39, 6]\n",
    "print (\"List values\", str(templist))\n",
    "r = 0\n",
    "for item in templist:\n",
    "    r += (item)\n",
    "print (r)"
   ]
  },
  {
   "cell_type": "code",
   "execution_count": 6,
   "metadata": {},
   "outputs": [
    {
     "name": "stdout",
     "output_type": "stream",
     "text": [
      "65\n"
     ]
    }
   ],
   "source": [
    "# Printing max value\n",
    "list1 = [49,32,12,12,34,65]\n",
    "b = max(list1)\n",
    "print (b)"
   ]
  },
  {
   "cell_type": "code",
   "execution_count": 5,
   "metadata": {},
   "outputs": [
    {
     "name": "stdout",
     "output_type": "stream",
     "text": [
      "List values [49, 24, 13, 104, 39, 6]\n",
      "235\n"
     ]
    }
   ],
   "source": [
    "# sum all numeric values in list\n",
    "templist = [49, 24, 13, 104, 39, 6]\n",
    "print (\"List values\", str(templist))\n",
    "r = 0\n",
    "for item in templist:\n",
    "    r += (item)\n",
    "print (r)"
   ]
  },
  {
   "cell_type": "code",
   "execution_count": 7,
   "metadata": {},
   "outputs": [
    {
     "name": "stdout",
     "output_type": "stream",
     "text": [
      "List Values:  [1, 1, 2, 3, 5, 8, 13, 21, 34, 55, 89]\n",
      "1\n",
      "1\n",
      "2\n",
      "3\n"
     ]
    }
   ],
   "source": [
    "# print less than 5 values\n",
    "a = [1, 1, 2, 3, 5, 8, 13, 21, 34, 55, 89]\n",
    "print (\"List Values: \", str(a))\n",
    "e = len(a)\n",
    "for x in range(e):\n",
    "    if a[x]<5:\n",
    "        print (a[x])"
   ]
  },
  {
   "cell_type": "code",
   "execution_count": null,
   "metadata": {},
   "outputs": [],
   "source": []
  }
 ],
 "metadata": {
  "kernelspec": {
   "display_name": "Python 3",
   "language": "python",
   "name": "python3"
  },
  "language_info": {
   "codemirror_mode": {
    "name": "ipython",
    "version": 3
   },
   "file_extension": ".py",
   "mimetype": "text/x-python",
   "name": "python",
   "nbconvert_exporter": "python",
   "pygments_lexer": "ipython3",
   "version": "3.7.4"
  }
 },
 "nbformat": 4,
 "nbformat_minor": 2
}
