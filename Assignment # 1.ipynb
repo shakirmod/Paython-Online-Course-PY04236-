{
 "cells": [
  {
   "cell_type": "code",
   "execution_count": 23,
   "metadata": {},
   "outputs": [
    {
     "name": "stdout",
     "output_type": "stream",
     "text": [
      "Twinkle, twinkle, little star,\n",
      "          How I wonder what you are!\n",
      "               Up above the world so high,\n",
      "               Like a diamond in the sky.\n",
      "Twinkle, twinkle, little star,\n",
      "          How I wonder what you are!\n"
     ]
    }
   ],
   "source": [
    "# Printing string in a specefic format\n",
    "sce = \"     \"\n",
    "print (\"Twinkle, twinkle, little star,\")\n",
    "print (((sce) *2) + \"How I wonder what you are!\")\n",
    "print (((sce) *3) + \"Up above the world so high,\")\n",
    "print (((sce) *3) + \"Like a diamond in the sky.\")\n",
    "print (\"Twinkle, twinkle, little star,\")\n",
    "print (((sce) *2) + \"How I wonder what you are!\")\n"
   ]
  },
  {
   "cell_type": "code",
   "execution_count": 24,
   "metadata": {},
   "outputs": [
    {
     "name": "stdout",
     "output_type": "stream",
     "text": [
      "3.7.4 (default, Aug  9 2019, 18:34:13) [MSC v.1915 64 bit (AMD64)]\n"
     ]
    }
   ],
   "source": [
    "# Printing exesting version of Python\n",
    "import sys\n",
    "print(sys.version)"
   ]
  },
  {
   "cell_type": "code",
   "execution_count": 25,
   "metadata": {},
   "outputs": [
    {
     "name": "stdout",
     "output_type": "stream",
     "text": [
      "2019-08-11 11:26:46.790043\n"
     ]
    }
   ],
   "source": [
    "# Printing current date and time now\n",
    "import datetime\n",
    "now = datetime.datetime.now()\n",
    "print(now)"
   ]
  },
  {
   "cell_type": "code",
   "execution_count": 26,
   "metadata": {},
   "outputs": [
    {
     "name": "stdout",
     "output_type": "stream",
     "text": [
      "Enter a Radius 5\n",
      "radis is  78.5\n"
     ]
    }
   ],
   "source": [
    "# calcuating Area of circle\n",
    "pi = 3.14\n",
    "r = float(input (\"Enter a Radius \"))\n",
    "a = pi * (r ** 2)\n",
    "print (\"radis is \", a)"
   ]
  },
  {
   "cell_type": "code",
   "execution_count": 27,
   "metadata": {},
   "outputs": [
    {
     "name": "stdout",
     "output_type": "stream",
     "text": [
      "Enter First Name: Shakir\n",
      "Enter Last Name: Ullah\n",
      "Ullah Shakir\n"
     ]
    }
   ],
   "source": [
    "# printing first name and last name in reverse order\n",
    "firstname = input (\"Enter First Name: \")\n",
    "lastname = input (\"Enter Last Name: \")\n",
    "print (lastname + \" \" + firstname)"
   ]
  },
  {
   "cell_type": "code",
   "execution_count": 28,
   "metadata": {
    "scrolled": true
   },
   "outputs": [
    {
     "name": "stdout",
     "output_type": "stream",
     "text": [
      "Enter first number: 2\n",
      "Enter second number: 1\n",
      "3\n"
     ]
    }
   ],
   "source": [
    "# Addition of two inputs\n",
    "a1 = int(input (\"Enter first number: \"))\n",
    "b1 = int (input (\"Enter second number: \"))\n",
    "result = a1 + b1\n",
    "print (result)"
   ]
  },
  {
   "cell_type": "code",
   "execution_count": null,
   "metadata": {},
   "outputs": [],
   "source": []
  }
 ],
 "metadata": {
  "kernelspec": {
   "display_name": "Python 3",
   "language": "python",
   "name": "python3"
  },
  "language_info": {
   "codemirror_mode": {
    "name": "ipython",
    "version": 3
   },
   "file_extension": ".py",
   "mimetype": "text/x-python",
   "name": "python",
   "nbconvert_exporter": "python",
   "pygments_lexer": "ipython3",
   "version": "3.7.4"
  }
 },
 "nbformat": 4,
 "nbformat_minor": 2
}
