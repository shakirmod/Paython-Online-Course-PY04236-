{
 "cells": [
  {
   "cell_type": "code",
   "execution_count": 1,
   "metadata": {},
   "outputs": [
    {
     "data": {
      "text/plain": [
       "' \\n It is an paradigm in which real-world objects are viewed in each separate entities having their own state which is modified\\n only by built in procedures, called method\\n '"
      ]
     },
     "execution_count": 1,
     "metadata": {},
     "output_type": "execute_result"
    }
   ],
   "source": [
    "#task 1\n",
    "\n",
    "# OBJECT ORIENTED PROGRAMMING(OOP)\n",
    "\"\"\" \n",
    " It is an paradigm in which real-world objects are viewed in each separate entities having their own state which is modified\n",
    " only by built in procedures, called method\n",
    " \"\"\""
   ]
  },
  {
   "cell_type": "code",
   "execution_count": 2,
   "metadata": {},
   "outputs": [
    {
     "data": {
      "text/plain": [
       "'\\n1: easy reuse and recycling of code\\n2: improved software-development and productivity\\n3: improved software main ability\\n4: faster development\\n5: lower cost development\\n6: higher quality software\\n7: encapsulation\\n\\n\\n\\n'"
      ]
     },
     "execution_count": 2,
     "metadata": {},
     "output_type": "execute_result"
    }
   ],
   "source": [
    "#task 2\n",
    "\n",
    "#Benefits of OOPs\n",
    "\n",
    "\"\"\"\n",
    "1: easy reuse and recycling of code\n",
    "2: improved software-development and productivity\n",
    "3: improved software main ability\n",
    "4: faster development\n",
    "5: lower cost development\n",
    "6: higher quality software\n",
    "7: encapsulation\n",
    "\n",
    "\n",
    "\n",
    "\"\"\"\n"
   ]
  },
  {
   "cell_type": "code",
   "execution_count": 3,
   "metadata": {},
   "outputs": [
    {
     "data": {
      "text/plain": [
       "'Method and function are same thing with different thermology. A function built in an OOP is called Method.'"
      ]
     },
     "execution_count": 3,
     "metadata": {},
     "output_type": "execute_result"
    }
   ],
   "source": [
    "# task 3 \n",
    "\n",
    "#Difference between function and method\n",
    "\n",
    "#FUNCTION\n",
    "\n",
    "\"\"\"Function is a group of reusable code which can be called anywhere in a program. It eliminates the need of rewriting a code again and again. \"\"\"\n",
    "\n",
    "#METHOD \n",
    "\n",
    "\"\"\"Method and function are same thing with different thermology. A function built in an OOP is called Method.\"\"\""
   ]
  },
  {
   "cell_type": "code",
   "execution_count": 4,
   "metadata": {},
   "outputs": [
    {
     "data": {
      "text/plain": [
       "\"A class's behavior determines how an instance of that class should operate.\""
      ]
     },
     "execution_count": 4,
     "metadata": {},
     "output_type": "execute_result"
    }
   ],
   "source": [
    "# task 4\n",
    "\n",
    "#Class\n",
    "\n",
    "\"\"\"It is a template or blue print of about what an object can do.\"\"\"\n",
    "\n",
    "#Object \n",
    "\n",
    "\"\"\"An object is an instantiation of class. When a class is defined only the description for object is defined. Therefore, no memory or storage is allocated.\"\"\"\n",
    "\n",
    "#Attribute\n",
    "\n",
    "\"\"\"Attributes are the properties of the object.\"\"\"\n",
    "\n",
    "#Behaviour\n",
    "\n",
    "\"\"\"A class's behavior determines how an instance of that class should operate.\"\"\""
   ]
  },
  {
   "cell_type": "code",
   "execution_count": 5,
   "metadata": {},
   "outputs": [
    {
     "name": "stdout",
     "output_type": "stream",
     "text": [
      "black\n",
      "Alto\n",
      "699000\n"
     ]
    }
   ],
   "source": [
    "#task 5\n",
    "\n",
    "class Car():\n",
    "    def __init__(self,model,color,name,mileage,price):\n",
    "        self.model = model\n",
    "        self.color = color\n",
    "        self.name = name\n",
    "        self.mileage = mileage\n",
    "        self.price = price\n",
    "        \n",
    "        \n",
    "     #method one\n",
    "    def carColor(self, carColor):\n",
    "        self.color = carColor\n",
    "        \n",
    "        \n",
    "    #method two\n",
    "    def carModel(self):\n",
    "        self.model = \"Alto\"\n",
    "        \n",
    "        \n",
    "    #method three\n",
    "    def carPrice (self, newPrice):\n",
    "        self.price -= newPrice\n",
    "        \n",
    "    \n",
    "carDetail = Car(\"Alto. 1\", \"red\", \"Alto\", \"16 km/lit\", 899000)\n",
    "\n",
    "carDetail.carColor(\"black\")\n",
    "print(carDetail.color)\n",
    "\n",
    "carDetail.carModel()\n",
    "print(carDetail.model)\n",
    "\n",
    "carDetail.carPrice(200000)\n",
    "print(carDetail.price)"
   ]
  },
  {
   "cell_type": "code",
   "execution_count": null,
   "metadata": {},
   "outputs": [],
   "source": []
  }
 ],
 "metadata": {
  "kernelspec": {
   "display_name": "Python 3",
   "language": "python",
   "name": "python3"
  },
  "language_info": {
   "codemirror_mode": {
    "name": "ipython",
    "version": 3
   },
   "file_extension": ".py",
   "mimetype": "text/x-python",
   "name": "python",
   "nbconvert_exporter": "python",
   "pygments_lexer": "ipython3",
   "version": "3.7.4"
  }
 },
 "nbformat": 4,
 "nbformat_minor": 2
}
