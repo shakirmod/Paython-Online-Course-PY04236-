{
 "cells": [
  {
   "cell_type": "code",
   "execution_count": 1,
   "metadata": {},
   "outputs": [
    {
     "name": "stdout",
     "output_type": "stream",
     "text": [
      "Enter 1st value 5\n",
      "Enter 2nd value 2\n",
      "Enter a operator+\n",
      "Result:  7\n"
     ]
    }
   ],
   "source": [
    "# Calculator application\n",
    "val1 = int(input(\"Enter 1st value \"))\n",
    "val2 = int(input(\"Enter 2nd value \"))\n",
    "operater = input(\"Enter a operator\")\n",
    "\n",
    "   \n",
    "# for Calculation\n",
    "\n",
    "if operater == \"+\":\n",
    "    result = val1 + val2\n",
    "    print (\"Result: \", result)\n",
    "elif operater == \"-\":\n",
    "    result = val1 - val2\n",
    "    print (\"Result: \", result)\n",
    "elif operater == \"*\":\n",
    "    result = val1 * val2\n",
    "    print (\"Result: \", result)\n",
    "elif operater == \"/\":\n",
    "    result = val1 / val2\n",
    "    print (\"Result: \", result)\n",
    "elif operater == \"**\":\n",
    "    result = val1 ** val2\n",
    "    print (\"Result: \", result)\n",
    "else:\n",
    "    print(\"Enter Wrong Value\")"
   ]
  },
  {
   "cell_type": "code",
   "execution_count": 2,
   "metadata": {},
   "outputs": [
    {
     "name": "stdout",
     "output_type": "stream",
     "text": [
      "yes, list have numeric value\n"
     ]
    }
   ],
   "source": [
    "# checking if list exist Numeric value\n",
    "alist = [\"shakir\", \"Anum\", \"Rabia\", 1, 2, 4, 15, \"RT\"]\n",
    "c=0\n",
    "for blist in alist:\n",
    "    if isinstance(blist,int):\n",
    "        c= 1\n",
    "        break\n",
    "if c == 1:\n",
    "    print (\"yes, list have numeric value\")\n",
    "else:\n",
    "    print (\"No, list don't have numeric value\")\n",
    "    "
   ]
  },
  {
   "cell_type": "code",
   "execution_count": 3,
   "metadata": {},
   "outputs": [
    {
     "name": "stdout",
     "output_type": "stream",
     "text": [
      "{'first name': 'Shakir', 'last name': 'Ullah', 'address': 'house B2', 'location': 'Karachi'}\n"
     ]
    }
   ],
   "source": [
    "# Adding key to dictionary\n",
    "customer = {\n",
    "    \"first name\": \"Shakir\",\n",
    "    \"last name\": \"Ullah\",\n",
    "    \"address\": \"house B2\"\n",
    "}\n",
    "customer[\"location\"] = 'Karachi'\n",
    "print(customer)"
   ]
  },
  {
   "cell_type": "code",
   "execution_count": 4,
   "metadata": {},
   "outputs": [
    {
     "name": "stdout",
     "output_type": "stream",
     "text": [
      "57\n"
     ]
    }
   ],
   "source": [
    "dic = {\n",
    "    'a': 1,\n",
    "    'b' : 7,\n",
    "    'c' : 11,\n",
    "    'e' : 15,\n",
    "    'f' : 23,\n",
    "}\n",
    "\n",
    "sum = 0\n",
    "for i in dic.values():\n",
    "    sum = sum + i\n",
    "print (sum)"
   ]
  },
  {
   "cell_type": "code",
   "execution_count": 5,
   "metadata": {},
   "outputs": [
    {
     "name": "stdout",
     "output_type": "stream",
     "text": [
      "[3, 9, 8, 12]\n"
     ]
    }
   ],
   "source": [
    "# cduplicate values in list\n",
    "lst = [ 3, 3, 9, 2, 8, 30, 15, 9, 8, 36, 12, 12]\n",
    "dupItems = []\n",
    "uniqItems = {}\n",
    "for x in lst:\n",
    "   if x not in uniqItems:\n",
    "      uniqItems[x] = 1\n",
    "   else:\n",
    "      if uniqItems[x] == 1:\n",
    "         dupItems.append(x)\n",
    "      uniqItems[x] += 1\n",
    "print(dupItems)\n"
   ]
  },
  {
   "cell_type": "code",
   "execution_count": 6,
   "metadata": {},
   "outputs": [
    {
     "name": "stdout",
     "output_type": "stream",
     "text": [
      "Dogs found!\n"
     ]
    }
   ],
   "source": [
    "# key exist in dict\n",
    "pets = {'cats': 1, 'dogs': 2, 'fish': 3}\n",
    "\n",
    "if 'dogs' in pets:\n",
    "    print('Dogs found!')\n"
   ]
  },
  {
   "cell_type": "code",
   "execution_count": null,
   "metadata": {},
   "outputs": [],
   "source": []
  }
 ],
 "metadata": {
  "kernelspec": {
   "display_name": "Python 3",
   "language": "python",
   "name": "python3"
  },
  "language_info": {
   "codemirror_mode": {
    "name": "ipython",
    "version": 3
   },
   "file_extension": ".py",
   "mimetype": "text/x-python",
   "name": "python",
   "nbconvert_exporter": "python",
   "pygments_lexer": "ipython3",
   "version": "3.7.4"
  }
 },
 "nbformat": 4,
 "nbformat_minor": 2
}
